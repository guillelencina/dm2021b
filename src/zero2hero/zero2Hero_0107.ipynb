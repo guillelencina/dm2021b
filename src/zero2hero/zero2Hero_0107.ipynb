{
 "cells": [
  {
   "cell_type": "markdown",
   "metadata": {},
   "source": [
    "# Zero to Hero"
   ]
  },
  {
   "cell_type": "markdown",
   "metadata": {},
   "source": [
    "## 1.07 Aplicando el arbol"
   ]
  },
  {
   "cell_type": "markdown",
   "metadata": {},
   "source": [
    "Se aplicará el modelo generado por rpart a los datos nuevos y se genera la salida para Kaggle"
   ]
  },
  {
   "cell_type": "code",
   "execution_count": 1,
   "metadata": {},
   "outputs": [
    {
     "data": {
      "text/html": [
       "<table class=\"dataframe\">\n",
       "<caption>A matrix: 2 × 6 of type dbl</caption>\n",
       "<thead>\n",
       "\t<tr><th></th><th scope=col>used</th><th scope=col>(Mb)</th><th scope=col>gc trigger</th><th scope=col>(Mb)</th><th scope=col>max used</th><th scope=col>(Mb)</th></tr>\n",
       "</thead>\n",
       "<tbody>\n",
       "\t<tr><th scope=row>Ncells</th><td> 556825</td><td>29.8</td><td>1176264</td><td>62.9</td><td>1035800</td><td>55.4</td></tr>\n",
       "\t<tr><th scope=row>Vcells</th><td>1018468</td><td> 7.8</td><td>8388608</td><td>64.0</td><td>1649740</td><td>12.6</td></tr>\n",
       "</tbody>\n",
       "</table>\n"
      ],
      "text/latex": [
       "A matrix: 2 × 6 of type dbl\n",
       "\\begin{tabular}{r|llllll}\n",
       "  & used & (Mb) & gc trigger & (Mb) & max used & (Mb)\\\\\n",
       "\\hline\n",
       "\tNcells &  556825 & 29.8 & 1176264 & 62.9 & 1035800 & 55.4\\\\\n",
       "\tVcells & 1018468 &  7.8 & 8388608 & 64.0 & 1649740 & 12.6\\\\\n",
       "\\end{tabular}\n"
      ],
      "text/markdown": [
       "\n",
       "A matrix: 2 × 6 of type dbl\n",
       "\n",
       "| <!--/--> | used | (Mb) | gc trigger | (Mb) | max used | (Mb) |\n",
       "|---|---|---|---|---|---|---|\n",
       "| Ncells |  556825 | 29.8 | 1176264 | 62.9 | 1035800 | 55.4 |\n",
       "| Vcells | 1018468 |  7.8 | 8388608 | 64.0 | 1649740 | 12.6 |\n",
       "\n"
      ],
      "text/plain": [
       "       used    (Mb) gc trigger (Mb) max used (Mb)\n",
       "Ncells  556825 29.8 1176264    62.9 1035800  55.4\n",
       "Vcells 1018468  7.8 8388608    64.0 1649740  12.6"
      ]
     },
     "metadata": {},
     "output_type": "display_data"
    },
    {
     "name": "stderr",
     "output_type": "stream",
     "text": [
      "Warning message:\n",
      "\"package 'data.table' was built under R version 4.1.1\"\n",
      "Warning message:\n",
      "\"package 'rpart' was built under R version 4.1.1\"\n",
      "Warning message:\n",
      "\"package 'rpart.plot' was built under R version 4.1.1\"\n"
     ]
    }
   ],
   "source": [
    "rm( list=ls())\n",
    "gc()\n",
    "\n",
    "library( \"data.table\")   #cargo la libreria  data.table\n",
    "library( \"rpart\")  #cargo la libreria  rpart\n",
    "library( \"rpart.plot\")\n",
    "\n",
    "options(repr.plot.width=20, repr.plot.height=10) \n",
    "setwd(\"G:\\\\Documents\\\\ITBA\\\\Modulo3\\\\\")  #Aqui se debe poner la ruta de la PC local"
   ]
  },
  {
   "cell_type": "code",
   "execution_count": 2,
   "metadata": {},
   "outputs": [],
   "source": [
    "dtrain <- data.table::fread(\"./datasetsOri/paquete_premium_202011.csv\")   #cargo el dataset"
   ]
  },
  {
   "cell_type": "code",
   "execution_count": 3,
   "metadata": {},
   "outputs": [],
   "source": [
    "#genero el modelo\n",
    "modelo <-  rpart::rpart(formula= \"clase_ternaria ~ .\" ,\n",
    "                        data= dtrain,\n",
    "                        xval= 0,\n",
    "                        cp= -1,\n",
    "                        maxdepth= 2 )"
   ]
  },
  {
   "cell_type": "markdown",
   "metadata": {},
   "source": [
    "Cargo el dataset a donde voy a aplicar el modelo"
   ]
  },
  {
   "cell_type": "code",
   "execution_count": 4,
   "metadata": {},
   "outputs": [],
   "source": [
    "dapply <- data.table::fread(\"./datasetsOri/paquete_premium_202101.csv\")   #cargo el dataset"
   ]
  },
  {
   "cell_type": "markdown",
   "metadata": {},
   "source": [
    "Aplico el modelo a los datos dapply  pidiendo que me devuelva probabildades"
   ]
  },
  {
   "cell_type": "code",
   "execution_count": 5,
   "metadata": {},
   "outputs": [],
   "source": [
    "prediccion  <- predict( modelo, dapply, type = \"prob\")"
   ]
  },
  {
   "cell_type": "markdown",
   "metadata": {},
   "source": [
    "Analizo que queda en prediccion"
   ]
  },
  {
   "cell_type": "code",
   "execution_count": 6,
   "metadata": {},
   "outputs": [
    {
     "data": {
      "text/html": [
       "<table class=\"dataframe\">\n",
       "<caption>A matrix: 6 × 3 of type dbl</caption>\n",
       "<thead>\n",
       "\t<tr><th></th><th scope=col>BAJA+1</th><th scope=col>BAJA+2</th><th scope=col>CONTINUA</th></tr>\n",
       "</thead>\n",
       "<tbody>\n",
       "\t<tr><th scope=row>1</th><td>0.0009687193</td><td>0.001388827</td><td>0.9976425</td></tr>\n",
       "\t<tr><th scope=row>2</th><td>0.0009687193</td><td>0.001388827</td><td>0.9976425</td></tr>\n",
       "\t<tr><th scope=row>3</th><td>0.0009687193</td><td>0.001388827</td><td>0.9976425</td></tr>\n",
       "\t<tr><th scope=row>4</th><td>0.0009687193</td><td>0.001388827</td><td>0.9976425</td></tr>\n",
       "\t<tr><th scope=row>5</th><td>0.0009687193</td><td>0.001388827</td><td>0.9976425</td></tr>\n",
       "\t<tr><th scope=row>6</th><td>0.0088117634</td><td>0.010109201</td><td>0.9810790</td></tr>\n",
       "</tbody>\n",
       "</table>\n"
      ],
      "text/latex": [
       "A matrix: 6 × 3 of type dbl\n",
       "\\begin{tabular}{r|lll}\n",
       "  & BAJA+1 & BAJA+2 & CONTINUA\\\\\n",
       "\\hline\n",
       "\t1 & 0.0009687193 & 0.001388827 & 0.9976425\\\\\n",
       "\t2 & 0.0009687193 & 0.001388827 & 0.9976425\\\\\n",
       "\t3 & 0.0009687193 & 0.001388827 & 0.9976425\\\\\n",
       "\t4 & 0.0009687193 & 0.001388827 & 0.9976425\\\\\n",
       "\t5 & 0.0009687193 & 0.001388827 & 0.9976425\\\\\n",
       "\t6 & 0.0088117634 & 0.010109201 & 0.9810790\\\\\n",
       "\\end{tabular}\n"
      ],
      "text/markdown": [
       "\n",
       "A matrix: 6 × 3 of type dbl\n",
       "\n",
       "| <!--/--> | BAJA+1 | BAJA+2 | CONTINUA |\n",
       "|---|---|---|---|\n",
       "| 1 | 0.0009687193 | 0.001388827 | 0.9976425 |\n",
       "| 2 | 0.0009687193 | 0.001388827 | 0.9976425 |\n",
       "| 3 | 0.0009687193 | 0.001388827 | 0.9976425 |\n",
       "| 4 | 0.0009687193 | 0.001388827 | 0.9976425 |\n",
       "| 5 | 0.0009687193 | 0.001388827 | 0.9976425 |\n",
       "| 6 | 0.0088117634 | 0.010109201 | 0.9810790 |\n",
       "\n"
      ],
      "text/plain": [
       "  BAJA+1       BAJA+2      CONTINUA \n",
       "1 0.0009687193 0.001388827 0.9976425\n",
       "2 0.0009687193 0.001388827 0.9976425\n",
       "3 0.0009687193 0.001388827 0.9976425\n",
       "4 0.0009687193 0.001388827 0.9976425\n",
       "5 0.0009687193 0.001388827 0.9976425\n",
       "6 0.0088117634 0.010109201 0.9810790"
      ]
     },
     "metadata": {},
     "output_type": "display_data"
    }
   ],
   "source": [
    "head( prediccion )"
   ]
  },
  {
   "cell_type": "markdown",
   "metadata": {},
   "source": [
    "Prediccion es una matriz; me interesa la columna \"BAJA+2\"  que es la probabilidad que modelo asigna a cada registro de dapply"
   ]
  },
  {
   "cell_type": "code",
   "execution_count": 7,
   "metadata": {},
   "outputs": [],
   "source": [
    "prob_baja2  <- prediccion[, \"BAJA+2\"]"
   ]
  },
  {
   "cell_type": "code",
   "execution_count": 8,
   "metadata": {},
   "outputs": [
    {
     "data": {
      "text/html": [
       "<style>\n",
       ".dl-inline {width: auto; margin:0; padding: 0}\n",
       ".dl-inline>dt, .dl-inline>dd {float: none; width: auto; display: inline-block}\n",
       ".dl-inline>dt::after {content: \":\\0020\"; padding-right: .5ex}\n",
       ".dl-inline>dt:not(:first-of-type) {padding-left: .5ex}\n",
       "</style><dl class=dl-inline><dt>1</dt><dd>0.00138882710832357</dd><dt>2</dt><dd>0.00138882710832357</dd><dt>3</dt><dd>0.00138882710832357</dd><dt>4</dt><dd>0.00138882710832357</dd><dt>5</dt><dd>0.00138882710832357</dd><dt>6</dt><dd>0.0101092009947021</dd></dl>\n"
      ],
      "text/latex": [
       "\\begin{description*}\n",
       "\\item[1] 0.00138882710832357\n",
       "\\item[2] 0.00138882710832357\n",
       "\\item[3] 0.00138882710832357\n",
       "\\item[4] 0.00138882710832357\n",
       "\\item[5] 0.00138882710832357\n",
       "\\item[6] 0.0101092009947021\n",
       "\\end{description*}\n"
      ],
      "text/markdown": [
       "1\n",
       ":   0.001388827108323572\n",
       ":   0.001388827108323573\n",
       ":   0.001388827108323574\n",
       ":   0.001388827108323575\n",
       ":   0.001388827108323576\n",
       ":   0.0101092009947021\n",
       "\n"
      ],
      "text/plain": [
       "          1           2           3           4           5           6 \n",
       "0.001388827 0.001388827 0.001388827 0.001388827 0.001388827 0.010109201 "
      ]
     },
     "metadata": {},
     "output_type": "display_data"
    }
   ],
   "source": [
    "head( prob_baja2)"
   ]
  },
  {
   "cell_type": "markdown",
   "metadata": {},
   "source": [
    "prob_baja2 es el vector de probabilidades"
   ]
  },
  {
   "cell_type": "code",
   "execution_count": 9,
   "metadata": {},
   "outputs": [
    {
     "data": {
      "text/html": [
       "240336"
      ],
      "text/latex": [
       "240336"
      ],
      "text/markdown": [
       "240336"
      ],
      "text/plain": [
       "[1] 240336"
      ]
     },
     "metadata": {},
     "output_type": "display_data"
    },
    {
     "data": {
      "text/html": [
       "240336"
      ],
      "text/latex": [
       "240336"
      ],
      "text/markdown": [
       "240336"
      ],
      "text/plain": [
       "[1] 240336"
      ]
     },
     "metadata": {},
     "output_type": "display_data"
    }
   ],
   "source": [
    "length( prob_baja2 )\n",
    "nrow( dapply )"
   ]
  },
  {
   "cell_type": "markdown",
   "metadata": {},
   "source": [
    "Ahora decido si envio el estimulo o no\n",
    "<br>\n",
    "si prob( BAJA+2) > 0.025  envio  el estímulo"
   ]
  },
  {
   "cell_type": "code",
   "execution_count": 10,
   "metadata": {},
   "outputs": [],
   "source": [
    "Predicted   <- ifelse( prob_baja2 > 0.025, 1, 0 )"
   ]
  },
  {
   "cell_type": "code",
   "execution_count": 11,
   "metadata": {},
   "outputs": [
    {
     "data": {
      "text/html": [
       "<style>\n",
       ".dl-inline {width: auto; margin:0; padding: 0}\n",
       ".dl-inline>dt, .dl-inline>dd {float: none; width: auto; display: inline-block}\n",
       ".dl-inline>dt::after {content: \":\\0020\"; padding-right: .5ex}\n",
       ".dl-inline>dt:not(:first-of-type) {padding-left: .5ex}\n",
       "</style><dl class=dl-inline><dt>1</dt><dd>0</dd><dt>2</dt><dd>0</dd><dt>3</dt><dd>0</dd><dt>4</dt><dd>0</dd><dt>5</dt><dd>0</dd><dt>6</dt><dd>0</dd></dl>\n"
      ],
      "text/latex": [
       "\\begin{description*}\n",
       "\\item[1] 0\n",
       "\\item[2] 0\n",
       "\\item[3] 0\n",
       "\\item[4] 0\n",
       "\\item[5] 0\n",
       "\\item[6] 0\n",
       "\\end{description*}\n"
      ],
      "text/markdown": [
       "1\n",
       ":   02\n",
       ":   03\n",
       ":   04\n",
       ":   05\n",
       ":   06\n",
       ":   0\n",
       "\n"
      ],
      "text/plain": [
       "1 2 3 4 5 6 \n",
       "0 0 0 0 0 0 "
      ]
     },
     "metadata": {},
     "output_type": "display_data"
    }
   ],
   "source": [
    "head( Predicted)"
   ]
  },
  {
   "cell_type": "code",
   "execution_count": null,
   "metadata": {},
   "outputs": [],
   "source": [
    "hist( Predicted)"
   ]
  },
  {
   "cell_type": "markdown",
   "metadata": {},
   "source": [
    "creo una tabla con  lo que voy a enviar a Kaggle"
   ]
  },
  {
   "cell_type": "code",
   "execution_count": null,
   "metadata": {},
   "outputs": [],
   "source": [
    "entrega  <-  as.data.table( list( \"numero_de_cliente\"=dapply$numero_de_cliente, \"Predicted\"=Predicted)  )"
   ]
  },
  {
   "cell_type": "code",
   "execution_count": 14,
   "metadata": {},
   "outputs": [
    {
     "data": {
      "text/html": [
       "<table class=\"dataframe\">\n",
       "<caption>A data.table: 6 × 2</caption>\n",
       "<thead>\n",
       "\t<tr><th scope=col>numero_de_cliente</th><th scope=col>Predicted</th></tr>\n",
       "\t<tr><th scope=col>&lt;int&gt;</th><th scope=col>&lt;dbl&gt;</th></tr>\n",
       "</thead>\n",
       "<tbody>\n",
       "\t<tr><td>4572266</td><td>0</td></tr>\n",
       "\t<tr><td>4572285</td><td>0</td></tr>\n",
       "\t<tr><td>4572379</td><td>0</td></tr>\n",
       "\t<tr><td>4572571</td><td>0</td></tr>\n",
       "\t<tr><td>4572624</td><td>0</td></tr>\n",
       "\t<tr><td>4572759</td><td>0</td></tr>\n",
       "</tbody>\n",
       "</table>\n"
      ],
      "text/latex": [
       "A data.table: 6 × 2\n",
       "\\begin{tabular}{ll}\n",
       " numero\\_de\\_cliente & Predicted\\\\\n",
       " <int> & <dbl>\\\\\n",
       "\\hline\n",
       "\t 4572266 & 0\\\\\n",
       "\t 4572285 & 0\\\\\n",
       "\t 4572379 & 0\\\\\n",
       "\t 4572571 & 0\\\\\n",
       "\t 4572624 & 0\\\\\n",
       "\t 4572759 & 0\\\\\n",
       "\\end{tabular}\n"
      ],
      "text/markdown": [
       "\n",
       "A data.table: 6 × 2\n",
       "\n",
       "| numero_de_cliente &lt;int&gt; | Predicted &lt;dbl&gt; |\n",
       "|---|---|\n",
       "| 4572266 | 0 |\n",
       "| 4572285 | 0 |\n",
       "| 4572379 | 0 |\n",
       "| 4572571 | 0 |\n",
       "| 4572624 | 0 |\n",
       "| 4572759 | 0 |\n",
       "\n"
      ],
      "text/plain": [
       "  numero_de_cliente Predicted\n",
       "1 4572266           0        \n",
       "2 4572285           0        \n",
       "3 4572379           0        \n",
       "4 4572571           0        \n",
       "5 4572624           0        \n",
       "6 4572759           0        "
      ]
     },
     "metadata": {},
     "output_type": "display_data"
    }
   ],
   "source": [
    "head( entrega)"
   ]
  },
  {
   "cell_type": "code",
   "execution_count": 16,
   "metadata": {},
   "outputs": [
    {
     "data": {
      "text/html": [
       "<table class=\"dataframe\">\n",
       "<caption>A data.table: 2 × 2</caption>\n",
       "<thead>\n",
       "\t<tr><th scope=col>Predicted</th><th scope=col>N</th></tr>\n",
       "\t<tr><th scope=col>&lt;dbl&gt;</th><th scope=col>&lt;int&gt;</th></tr>\n",
       "</thead>\n",
       "<tbody>\n",
       "\t<tr><td>0</td><td>232179</td></tr>\n",
       "\t<tr><td>1</td><td>  8157</td></tr>\n",
       "</tbody>\n",
       "</table>\n"
      ],
      "text/latex": [
       "A data.table: 2 × 2\n",
       "\\begin{tabular}{ll}\n",
       " Predicted & N\\\\\n",
       " <dbl> & <int>\\\\\n",
       "\\hline\n",
       "\t 0 & 232179\\\\\n",
       "\t 1 &   8157\\\\\n",
       "\\end{tabular}\n"
      ],
      "text/markdown": [
       "\n",
       "A data.table: 2 × 2\n",
       "\n",
       "| Predicted &lt;dbl&gt; | N &lt;int&gt; |\n",
       "|---|---|\n",
       "| 0 | 232179 |\n",
       "| 1 |   8157 |\n",
       "\n"
      ],
      "text/plain": [
       "  Predicted N     \n",
       "1 0         232179\n",
       "2 1           8157"
      ]
     },
     "metadata": {},
     "output_type": "display_data"
    }
   ],
   "source": [
    "entrega[ , .N, Predicted]"
   ]
  },
  {
   "cell_type": "markdown",
   "metadata": {},
   "source": [
    "Esto significa que se enviaran 8157 estímulos"
   ]
  },
  {
   "cell_type": "code",
   "execution_count": 17,
   "metadata": {},
   "outputs": [],
   "source": [
    "#genero el archivo para Kaggle\n",
    "fwrite( entrega, \n",
    "        file= \"./kaggle/para_Kaggle_0107.csv\",\n",
    "        sep=  \",\" )"
   ]
  },
  {
   "cell_type": "markdown",
   "metadata": {},
   "source": [
    "Subiendo a Kaggle la prediccion anterior se obtiene en el Public Leaderboard 14.58786"
   ]
  }
 ],
 "metadata": {
  "kernelspec": {
   "display_name": "R",
   "language": "R",
   "name": "ir"
  },
  "language_info": {
   "codemirror_mode": "r",
   "file_extension": ".r",
   "mimetype": "text/x-r-source",
   "name": "R",
   "pygments_lexer": "r",
   "version": "4.1.0"
  }
 },
 "nbformat": 4,
 "nbformat_minor": 4
}
