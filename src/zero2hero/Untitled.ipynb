{
 "cells": [
  {
   "cell_type": "code",
   "execution_count": 1,
   "id": "005a06eb-9936-47f4-b5c1-91b7d120dae2",
   "metadata": {},
   "outputs": [
    {
     "name": "stderr",
     "output_type": "stream",
     "text": [
      "also installing the dependencies 'RcppCCTZ', 'RcppDate', 'bit64', 'bit', 'nanotime'\n",
      "\n",
      "\n"
     ]
    },
    {
     "name": "stdout",
     "output_type": "stream",
     "text": [
      "package 'RcppCCTZ' successfully unpacked and MD5 sums checked\n",
      "package 'RcppDate' successfully unpacked and MD5 sums checked\n",
      "package 'bit64' successfully unpacked and MD5 sums checked\n",
      "package 'bit' successfully unpacked and MD5 sums checked\n",
      "package 'nanotime' successfully unpacked and MD5 sums checked\n",
      "package 'data.table' successfully unpacked and MD5 sums checked\n"
     ]
    },
    {
     "name": "stderr",
     "output_type": "stream",
     "text": [
      "Warning message:\n",
      "\"cannot remove prior installation of package 'data.table'\"\n",
      "Warning message in file.copy(savedcopy, lib, recursive = TRUE):\n",
      "\"problema al copiar G:\\Archivos de Programa\\R-4.1.0\\library\\00LOCK\\data.table\\libs\\x64\\datatable.dll  a G:\\Archivos de Programa\\R-4.1.0\\library\\data.table\\libs\\x64\\datatable.dll: Permission denied\"\n",
      "Warning message:\n",
      "\"restored 'data.table'\"\n"
     ]
    },
    {
     "name": "stdout",
     "output_type": "stream",
     "text": [
      "\n",
      "The downloaded binary packages are in\n",
      "\tC:\\Users\\Public\\Documents\\Wondershare\\CreatorTemp\\RtmpwN5sbG\\downloaded_packages\n"
     ]
    }
   ],
   "source": [
    "install.packages( \"data.table\", dependencies=TRUE )"
   ]
  },
  {
   "cell_type": "code",
   "execution_count": 2,
   "id": "0400f7a2-e124-4e56-bbfb-d8d1c03fe1bf",
   "metadata": {},
   "outputs": [
    {
     "name": "stdout",
     "output_type": "stream",
     "text": [
      "package 'repr' successfully unpacked and MD5 sums checked\n",
      "package 'IRdisplay' successfully unpacked and MD5 sums checked\n",
      "package 'evaluate' successfully unpacked and MD5 sums checked\n",
      "package 'crayon' successfully unpacked and MD5 sums checked\n",
      "package 'pbdZMQ' successfully unpacked and MD5 sums checked\n"
     ]
    },
    {
     "name": "stderr",
     "output_type": "stream",
     "text": [
      "Warning message:\n",
      "\"cannot remove prior installation of package 'pbdZMQ'\"\n",
      "Warning message in file.copy(savedcopy, lib, recursive = TRUE):\n",
      "\"problema al copiar G:\\Archivos de Programa\\R-4.1.0\\library\\00LOCK\\pbdZMQ\\libs\\x64\\libzmq.dll  a G:\\Archivos de Programa\\R-4.1.0\\library\\pbdZMQ\\libs\\x64\\libzmq.dll: Permission denied\"\n",
      "Warning message in file.copy(savedcopy, lib, recursive = TRUE):\n",
      "\"problema al copiar G:\\Archivos de Programa\\R-4.1.0\\library\\00LOCK\\pbdZMQ\\libs\\x64\\pbdZMQ.dll  a G:\\Archivos de Programa\\R-4.1.0\\library\\pbdZMQ\\libs\\x64\\pbdZMQ.dll: Permission denied\"\n",
      "Warning message:\n",
      "\"restored 'pbdZMQ'\"\n"
     ]
    },
    {
     "name": "stdout",
     "output_type": "stream",
     "text": [
      "package 'devtools' successfully unpacked and MD5 sums checked\n",
      "package 'uuid' successfully unpacked and MD5 sums checked\n"
     ]
    },
    {
     "name": "stderr",
     "output_type": "stream",
     "text": [
      "Warning message:\n",
      "\"cannot remove prior installation of package 'uuid'\"\n",
      "Warning message in file.copy(savedcopy, lib, recursive = TRUE):\n",
      "\"problema al copiar G:\\Archivos de Programa\\R-4.1.0\\library\\00LOCK\\uuid\\libs\\x64\\uuid.dll  a G:\\Archivos de Programa\\R-4.1.0\\library\\uuid\\libs\\x64\\uuid.dll: Permission denied\"\n",
      "Warning message:\n",
      "\"restored 'uuid'\"\n"
     ]
    },
    {
     "name": "stdout",
     "output_type": "stream",
     "text": [
      "package 'digest' successfully unpacked and MD5 sums checked\n"
     ]
    },
    {
     "name": "stderr",
     "output_type": "stream",
     "text": [
      "Warning message:\n",
      "\"cannot remove prior installation of package 'digest'\"\n",
      "Warning message in file.copy(savedcopy, lib, recursive = TRUE):\n",
      "\"problema al copiar G:\\Archivos de Programa\\R-4.1.0\\library\\00LOCK\\digest\\libs\\x64\\digest.dll  a G:\\Archivos de Programa\\R-4.1.0\\library\\digest\\libs\\x64\\digest.dll: Permission denied\"\n",
      "Warning message:\n",
      "\"restored 'digest'\"\n"
     ]
    },
    {
     "name": "stdout",
     "output_type": "stream",
     "text": [
      "\n",
      "The downloaded binary packages are in\n",
      "\tC:\\Users\\Public\\Documents\\Wondershare\\CreatorTemp\\RtmpwN5sbG\\downloaded_packages\n"
     ]
    }
   ],
   "source": [
    "install.packages(c('repr', 'IRdisplay', 'evaluate', 'crayon', 'pbdZMQ',\n",
    "'devtools', 'uuid', 'digest'))"
   ]
  },
  {
   "cell_type": "code",
   "execution_count": 3,
   "id": "b7028f24-1b18-43ca-8acc-2d5c35036ebe",
   "metadata": {},
   "outputs": [
    {
     "name": "stdout",
     "output_type": "stream",
     "text": [
      "package 'IRkernel' successfully unpacked and MD5 sums checked\n",
      "\n",
      "The downloaded binary packages are in\n",
      "\tC:\\Users\\Public\\Documents\\Wondershare\\CreatorTemp\\RtmpwN5sbG\\downloaded_packages\n"
     ]
    }
   ],
   "source": [
    "install.packages('IRkernel')"
   ]
  },
  {
   "cell_type": "code",
   "execution_count": null,
   "id": "e61e1a92-acd6-414e-995f-b1930edb8924",
   "metadata": {},
   "outputs": [],
   "source": []
  }
 ],
 "metadata": {
  "kernelspec": {
   "display_name": "R",
   "language": "R",
   "name": "ir"
  },
  "language_info": {
   "codemirror_mode": "r",
   "file_extension": ".r",
   "mimetype": "text/x-r-source",
   "name": "R",
   "pygments_lexer": "r",
   "version": "4.1.0"
  }
 },
 "nbformat": 4,
 "nbformat_minor": 5
}
