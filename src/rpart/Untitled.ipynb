{
 "cells": [
  {
   "cell_type": "code",
   "execution_count": 1,
   "id": "696e074f-0f29-4e14-863b-53cb92706cf3",
   "metadata": {},
   "outputs": [
    {
     "data": {
      "text/plain": [
       "               _                           \n",
       "platform       x86_64-w64-mingw32          \n",
       "arch           x86_64                      \n",
       "os             mingw32                     \n",
       "system         x86_64, mingw32             \n",
       "status                                     \n",
       "major          4                           \n",
       "minor          1.0                         \n",
       "year           2021                        \n",
       "month          05                          \n",
       "day            18                          \n",
       "svn rev        80317                       \n",
       "language       R                           \n",
       "version.string R version 4.1.0 (2021-05-18)\n",
       "nickname       Camp Pontanezen             "
      ]
     },
     "metadata": {},
     "output_type": "display_data"
    }
   ],
   "source": [
    "version"
   ]
  }
 ],
 "metadata": {
  "kernelspec": {
   "display_name": "R",
   "language": "R",
   "name": "ir"
  },
  "language_info": {
   "codemirror_mode": "r",
   "file_extension": ".r",
   "mimetype": "text/x-r-source",
   "name": "R",
   "pygments_lexer": "r",
   "version": "4.1.0"
  }
 },
 "nbformat": 4,
 "nbformat_minor": 5
}
